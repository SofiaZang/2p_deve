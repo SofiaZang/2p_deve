{
 "cells": [
  {
   "cell_type": "code",
   "execution_count": 1,
   "id": "a8b9ea00-aa14-4334-8d38-9c2439e9a4b7",
   "metadata": {},
   "outputs": [
    {
     "ename": "NameError",
     "evalue": "name 'fps' is not defined",
     "output_type": "error",
     "traceback": [
      "\u001b[1;31m---------------------------------------------------------------------------\u001b[0m",
      "\u001b[1;31mNameError\u001b[0m                                 Traceback (most recent call last)",
      "Cell \u001b[1;32mIn[1], line 53\u001b[0m\n\u001b[0;32m     50\u001b[0m     frames\u001b[38;5;241m.\u001b[39mappend(img)\n\u001b[0;32m     52\u001b[0m \u001b[38;5;66;03m# Save frames as a GIF\u001b[39;00m\n\u001b[1;32m---> 53\u001b[0m imageio\u001b[38;5;241m.\u001b[39mmimsave(\u001b[38;5;124m'\u001b[39m\u001b[38;5;124moutput.gif\u001b[39m\u001b[38;5;124m'\u001b[39m, frames, fps\u001b[38;5;241m=\u001b[39mfps)  \u001b[38;5;66;03m# Use the same fps as the video\u001b[39;00m\n\u001b[0;32m     55\u001b[0m \u001b[38;5;66;03m# Release resources\u001b[39;00m\n\u001b[0;32m     56\u001b[0m cap\u001b[38;5;241m.\u001b[39mrelease()\n",
      "\u001b[1;31mNameError\u001b[0m: name 'fps' is not defined"
     ]
    }
   ],
   "source": [
    "import cv2\n",
    "import numpy as np\n",
    "import matplotlib.pyplot as plt\n",
    "import imageio\n",
    "\n",
    "# Load the raster data (assuming it's in a NumPy array format)\n",
    " \n",
    "\n",
    "# Load the video\n",
    "cap = cv2.VideoCapture('video.tiff')\n",
    "\n",
    "# List to hold frames for the GIF\n",
    "frames = []\n",
    "\n",
    "# Playback the video\n",
    "while cap.isOpened():\n",
    "    ret, frame = cap.read()\n",
    "    if not ret:\n",
    "        break\n",
    "\n",
    "    # Get the current frame number\n",
    "    current_frame = cap.get(cv2.CAP_PROP_POS_FRAMES)\n",
    "    total_frames = cap.get(cv2.CAP_PROP_FRAME_COUNT)\n",
    "\n",
    "    # Clear the current plot\n",
    "    plt.clf()\n",
    "\n",
    "    # Display the video frame as the background\n",
    "    frame_rgb = cv2.cvtColor(frame, cv2.COLOR_BGR2RGB)\n",
    "\n",
    "    # Overlay the raster plot\n",
    "    plt.imshow(frame_rgb)\n",
    "    plt.imshow(raster_data, aspect='auto', extent=[0, raster_data.shape[1], 0, 1], alpha=0.5, origin='lower', cmap='gray')\n",
    "\n",
    "    # Update the vertical line position\n",
    "    line_position = (current_frame / total_frames) * raster_data.shape[1]\n",
    "    plt.axvline(x=line_position, color='red', linewidth=2)\n",
    "\n",
    "    # Other plotting settings\n",
    "    plt.ylim(0, 1)\n",
    "    plt.xlim(0, raster_data.shape[1])\n",
    "    plt.axis('off')  # Turn off axis\n",
    "\n",
    "    # Save the current frame to a buffer\n",
    "    plt.savefig('temp_frame.png', bbox_inches='tight', pad_inches=0)\n",
    "    plt.close()  # Close the figure to avoid displaying it\n",
    "\n",
    "    # Read the saved frame and append to frames list\n",
    "    img = imageio.imread('temp_frame.png')\n",
    "    frames.append(img)\n",
    "\n",
    "# Save frames as a GIF\n",
    "imageio.mimsave('output.gif', frames, fps=fps)  # Use the same fps as the video\n",
    "\n",
    "# Release resources\n",
    "cap.release()\n"
   ]
  },
  {
   "cell_type": "code",
   "execution_count": null,
   "id": "909c8cf0-1b5d-414e-9ff1-9b6cc95d2252",
   "metadata": {},
   "outputs": [],
   "source": []
  }
 ],
 "metadata": {
  "kernelspec": {
   "display_name": "Python 3 (ipykernel)",
   "language": "python",
   "name": "python3"
  },
  "language_info": {
   "codemirror_mode": {
    "name": "ipython",
    "version": 3
   },
   "file_extension": ".py",
   "mimetype": "text/x-python",
   "name": "python",
   "nbconvert_exporter": "python",
   "pygments_lexer": "ipython3",
   "version": "3.12.8"
  }
 },
 "nbformat": 4,
 "nbformat_minor": 5
}
